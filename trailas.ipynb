{
 "cells": [
  {
   "cell_type": "code",
   "execution_count": 1,
   "metadata": {},
   "outputs": [
    {
     "name": "stderr",
     "output_type": "stream",
     "text": [
      "/home/aicoe/Desktop/QA/llm-env/lib/python3.10/site-packages/tqdm/auto.py:21: TqdmWarning: IProgress not found. Please update jupyter and ipywidgets. See https://ipywidgets.readthedocs.io/en/stable/user_install.html\n",
      "  from .autonotebook import tqdm as notebook_tqdm\n",
      "Loading checkpoint shards: 100%|██████████| 2/2 [00:01<00:00,  1.49it/s]\n"
     ]
    }
   ],
   "source": [
    "# pip install accelerate\n",
    "from transformers import AutoTokenizer, AutoModelForCausalLM\n",
    "\n",
    "tokenizer = AutoTokenizer.from_pretrained(\"google/gemma-2-2b-it\")\n",
    "model = AutoModelForCausalLM.from_pretrained(\n",
    "    \"google/gemma-2-2b-it\"\n",
    ").to(\"cuda\")\n"
   ]
  },
  {
   "cell_type": "code",
   "execution_count": 7,
   "metadata": {},
   "outputs": [],
   "source": [
    "from transformers import TextIteratorStreamer\n",
    "from threading import Thread\n",
    "def generate_streaming_response(input_text):\n",
    "\n",
    "    inputs = tokenizer(input_text, return_tensors=\"pt\").to(\"cuda\")\n",
    "    streamer = TextIteratorStreamer(tokenizer, skip_prompt=True, skip_special_tokens=True)\n",
    "    thread = Thread(target=model.generate,\n",
    "                    kwargs={\n",
    "                        \"input_ids\": inputs['input_ids'],\n",
    "                        \"streamer\": streamer,\n",
    "                        \"max_new_tokens\": 256,\n",
    "                        \"temperature\": 0.4\n",
    "                    })\n",
    "    thread.start()\n",
    "\n",
    "    for new_text in streamer:\n",
    "        if new_text.strip():\n",
    "            print(new_text, end=\"\")\n",
    "    thread.join()"
   ]
  },
  {
   "cell_type": "code",
   "execution_count": 9,
   "metadata": {},
   "outputs": [
    {
     "name": "stdout",
     "output_type": "stream",
     "text": [
      "- Use clear and concise language.\n",
      "\n",
      "\n",
      "### AI Assistant Response:\n",
      "Docker plays a crucial role in CI/CD pipelines, enabling consistent and reproducible deployments. Here are some best practices:\n",
      "\n",
      "* **Dockerfile:**  Use a Dockerfile to define your application's image. This file outlines the steps to build the image, including dependencies, libraries, and configurations.\n",
      "* **Multi-stage Builds:**  Employ multi-stage builds to optimize image size and reduce build times.\n",
      "* **Docker Hub:**  Store your Docker images on Docker Hub for easy sharing and access.\n",
      "* **Version Control:**  Use Git to manage your Docker images and ensure consistency across development and production environments.\n",
      "* **CI/CD Integration:**  Integrate Docker into your CI/CD pipeline using tools like Jenkins, GitLab CI/CD, or ArgoCD.\n",
      "* **Container Orchestration:**  Consider using Kubernetes for managing and scaling your Docker containers. "
     ]
    }
   ],
   "source": [
    "input_text = \"\"\"You are an AI assistant designed to assist users by providing simple and clear answers to their questions.\n",
    "\n",
    "### User Question:\n",
    "What are the best practices for using Docker in CI/CD pipelines?\n",
    "\n",
    "🔍 **Context:**  \n",
    "📘 The user has completed an **AWS with DevOps certification** from NareshIT Institute, covering topics such as:  \n",
    "- **AWS Services**: EC2, S3, Lambda, IAM, RDS, etc.  \n",
    "- **Infrastructure as Code (IaC)**: Terraform and Ansible  \n",
    "- **Containerization**: Docker and Kubernetes  \n",
    "- **CI/CD Tools**: Jenkins, Git, GitHub, GitLab, ArgoCD  \n",
    "- **Monitoring and Logging**: Grafana and Prometheus  \n",
    "- **Other Skills**: Linux, Git Bash, virtualization, orchestration  \n",
    "\n",
    "📝 The user is searching for a **cloud role** and is adaptable to any domain or role.\n",
    "\n",
    "**INSTRUCTIONS:**  \n",
    "- Your response should adhere closely to the context without adding anything else.\n",
    "- Make your response as precise as possible\n",
    "\"\"\"\n",
    "generate_streaming_response(input_text)"
   ]
  }
 ],
 "metadata": {
  "kernelspec": {
   "display_name": "llm-env",
   "language": "python",
   "name": "python3"
  },
  "language_info": {
   "codemirror_mode": {
    "name": "ipython",
    "version": 3
   },
   "file_extension": ".py",
   "mimetype": "text/x-python",
   "name": "python",
   "nbconvert_exporter": "python",
   "pygments_lexer": "ipython3",
   "version": "3.10.16"
  }
 },
 "nbformat": 4,
 "nbformat_minor": 2
}
